{
 "cells": [
  {
   "cell_type": "markdown",
   "metadata": {},
   "source": [
    "# NUMBER DATATYPES\n",
    "## 3 types: int, float and complex    (complex>float>int)"
   ]
  },
  {
   "cell_type": "code",
   "execution_count": 3,
   "metadata": {},
   "outputs": [
    {
     "name": "stdout",
     "output_type": "stream",
     "text": [
      "<class 'int'>\n",
      "<class 'float'>\n",
      "<class 'complex'>\n"
     ]
    }
   ],
   "source": [
    "a=3\n",
    "b=3.0\n",
    "c=3+0j # real part and imaginary part---- real part+(j(imaginary part))\n",
    "print(type(a))\n",
    "print(type(b))\n",
    "print(type(c))"
   ]
  },
  {
   "cell_type": "code",
   "execution_count": 4,
   "metadata": {},
   "outputs": [
    {
     "data": {
      "text/plain": [
       "float"
      ]
     },
     "execution_count": 4,
     "metadata": {},
     "output_type": "execute_result"
    }
   ],
   "source": [
    "type(a+b)  #(int + float=float)"
   ]
  },
  {
   "cell_type": "code",
   "execution_count": 5,
   "metadata": {},
   "outputs": [
    {
     "data": {
      "text/plain": [
       "complex"
      ]
     },
     "execution_count": 5,
     "metadata": {},
     "output_type": "execute_result"
    }
   ],
   "source": [
    "type(a+c)  #(int + complex=complex)"
   ]
  },
  {
   "cell_type": "code",
   "execution_count": 6,
   "metadata": {},
   "outputs": [
    {
     "data": {
      "text/plain": [
       "complex"
      ]
     },
     "execution_count": 6,
     "metadata": {},
     "output_type": "execute_result"
    }
   ],
   "source": [
    "type(b+c)  #(float + complex=complex )"
   ]
  },
  {
   "cell_type": "markdown",
   "metadata": {},
   "source": [
    "# indentation (4spaces or else 1 tab-space)"
   ]
  },
  {
   "cell_type": "code",
   "execution_count": 5,
   "metadata": {},
   "outputs": [],
   "source": [
    "a=3\n",
    "if a<3:\n",
    "    print(\"a is less than 3\")\n",
    "    print(\"hello\")\n",
    "    print(a)"
   ]
  },
  {
   "cell_type": "markdown",
   "metadata": {},
   "source": [
    "# Anything which is inside single/double/triple quotes is string "
   ]
  },
  {
   "cell_type": "code",
   "execution_count": 10,
   "metadata": {},
   "outputs": [
    {
     "name": "stdout",
     "output_type": "stream",
     "text": [
      "<class 'int'>\n",
      "<class 'float'>\n",
      "<class 'complex'>\n",
      "<class 'str'>\n",
      "<class 'str'>\n",
      "<class 'str'>\n"
     ]
    }
   ],
   "source": [
    "a=10\n",
    "e=10.0\n",
    "f=10+3j\n",
    "b=\"10\"\n",
    "c='10.0'\n",
    "d='''10+3j'''\n",
    "print(type(a))\n",
    "print(type(e))\n",
    "print(type(f))\n",
    "print(type(b))\n",
    "print(type(c))\n",
    "print(type(d))"
   ]
  },
  {
   "cell_type": "markdown",
   "metadata": {},
   "source": [
    "# TYPE CASTING"
   ]
  },
  {
   "cell_type": "code",
   "execution_count": 16,
   "metadata": {},
   "outputs": [
    {
     "name": "stdout",
     "output_type": "stream",
     "text": [
      "<class 'int'>\n",
      "10\n",
      "<class 'str'>\n",
      "10.0\n",
      "(10+0j)\n"
     ]
    }
   ],
   "source": [
    "print(type(a))\n",
    "A=str(a)\n",
    "print(A)\n",
    "print(type(A))\n",
    "B=float(a)\n",
    "print(B)\n",
    "C=complex(a)\n",
    "print(C)"
   ]
  },
  {
   "cell_type": "markdown",
   "metadata": {},
   "source": [
    "# COMMENTS IN PYTHON"
   ]
  },
  {
   "cell_type": "markdown",
   "metadata": {},
   "source": [
    "#### SINGLE LINE COMMENTS"
   ]
  },
  {
   "cell_type": "code",
   "execution_count": 2,
   "metadata": {},
   "outputs": [],
   "source": [
    "#print(\"hello again\")      "
   ]
  },
  {
   "cell_type": "markdown",
   "metadata": {},
   "source": [
    "#### MULTILINE COMMENT"
   ]
  },
  {
   "cell_type": "code",
   "execution_count": 3,
   "metadata": {},
   "outputs": [
    {
     "data": {
      "text/plain": [
       "'print(\"hello\")'"
      ]
     },
     "execution_count": 3,
     "metadata": {},
     "output_type": "execute_result"
    }
   ],
   "source": [
    "'''print(\"hello\")'''     # ''' '''(3 times single quotes)"
   ]
  },
  {
   "cell_type": "markdown",
   "metadata": {},
   "source": [
    "# PRINT() METHOD AND ITS PARAMETERS"
   ]
  },
  {
   "cell_type": "markdown",
   "metadata": {},
   "source": [
    "## print(text/variabe , sep=\"\", end=\"\")"
   ]
  },
  {
   "cell_type": "markdown",
   "metadata": {},
   "source": [
    "#### PRINTING A STRING"
   ]
  },
  {
   "cell_type": "code",
   "execution_count": 24,
   "metadata": {},
   "outputs": [
    {
     "name": "stdout",
     "output_type": "stream",
     "text": [
      "hello\n",
      "hello 2\n"
     ]
    }
   ],
   "source": [
    "print(\"hello\") #method1\n",
    "a=\"hello 2\"    #method2\n",
    "print(a)"
   ]
  },
  {
   "cell_type": "markdown",
   "metadata": {},
   "source": [
    "#### USING SEPERATOR AND END PARAMETER"
   ]
  },
  {
   "cell_type": "code",
   "execution_count": 5,
   "metadata": {},
   "outputs": [
    {
     "name": "stdout",
     "output_type": "stream",
     "text": [
      "jai sanghi hello\n",
      "jai$sanghi$hello\n",
      "jai$sanghi$hello$hsk$fjks!"
     ]
    }
   ],
   "source": [
    "#sep=\" \" .....by default value is space\n",
    "#end=\"\\n\" .....by default value is nextline\n",
    "print(\"jai\",\"sanghi\",\"hello\")\n",
    "print(\"jai\",\"sanghi\",\"hello\",sep=\"$\")\n",
    "print(\"jai\",\"sanghi\",\"hello\",\"hsk\",\"fjks\",sep=\"$\",end=\"!\")"
   ]
  },
  {
   "cell_type": "code",
   "execution_count": 7,
   "metadata": {},
   "outputs": [
    {
     "name": "stdout",
     "output_type": "stream",
     "text": [
      "A&B&C&D\n",
      "jai.sanghi18@srmuniversity.ac.in"
     ]
    }
   ],
   "source": [
    "#ABCD\n",
    "#\"A&B&C&D\"\n",
    "firstname=\"jai\"\n",
    "lastname=\"sanghi\"\n",
    "print(\"A\",\"B\",\"C\",\"D\",sep=\"&\")\n",
    "print(firstname,lastname,sep=\".\",end=\"18@srmuniversity.ac.in\")"
   ]
  },
  {
   "cell_type": "code",
   "execution_count": 36,
   "metadata": {},
   "outputs": [
    {
     "name": "stdout",
     "output_type": "stream",
     "text": [
      "i want 10 peices of apples for 100 rupees\n",
      "i want 10 peices of banana for 100 rupees\n",
      "i want 10 peices of banana for 100 rupees\n",
      "i want 10 peices of banana for 100 rupees\n"
     ]
    }
   ],
   "source": [
    "#string formatting methods\n",
    "#\"i want 10 peices of apples for 100 rupees\"\n",
    "quantity=10\n",
    "item=\"banana\"\n",
    "cost=100\n",
    "print(\"i want 10 peices of apples for 100 rupees\") #method1\n",
    "str1=\"i want {} peices of {} for {} rupees\" #method3\n",
    "print(str1.format(quantity,item,cost))\n",
    "str2=\"i want {0} peices of {1} for {2} rupees\" #method4\n",
    "print(str2.format(quantity,item,cost))\n",
    "str3=\"i want {quantity} peices of {item} for {cost} rupees\" #method5\n",
    "print(str3.format(quantity=10,item=\"banana\",cost=100))"
   ]
  },
  {
   "cell_type": "code",
   "execution_count": 8,
   "metadata": {},
   "outputs": [
    {
     "name": "stdout",
     "output_type": "stream",
     "text": [
      "jai\n",
      "enter your namejai sanghi\n",
      "enter a number31\n",
      "enter your details: jai kumar sanghi\n",
      "enter the numbers: 12 23 34\n"
     ]
    }
   ],
   "source": [
    "#input()\n",
    "a=input()\n",
    "b=input(\"enter your name\")   #1\n",
    "c=int(input(\"enter a number\")) #2\n",
    "first,middle,last=input(\"enter your details: \").split() #3\n",
    "#map(int,input(\"enter the numbers: \").split()) #4\n",
    "d,e,f=map(int,input(\"enter the numbers: \").split())"
   ]
  },
  {
   "cell_type": "code",
   "execution_count": 9,
   "metadata": {},
   "outputs": [
    {
     "name": "stdout",
     "output_type": "stream",
     "text": [
      "jai\n",
      "jai sanghi\n",
      "31\n",
      "jai\n",
      "kumar\n",
      "sanghi\n",
      "12\n",
      "23\n",
      "34\n"
     ]
    }
   ],
   "source": [
    "print(a)\n",
    "print(b)\n",
    "print(c)\n",
    "print(first)\n",
    "print(middle)\n",
    "print(last)\n",
    "print(d)\n",
    "print(e)\n",
    "print(f)"
   ]
  },
  {
   "cell_type": "code",
   "execution_count": 10,
   "metadata": {},
   "outputs": [
    {
     "name": "stdout",
     "output_type": "stream",
     "text": [
      "<class 'int'>\n",
      "<class 'int'>\n",
      "<class 'int'>\n",
      "<class 'int'>\n"
     ]
    }
   ],
   "source": [
    "print(type(c))\n",
    "print(type(d))\n",
    "print(type(e))\n",
    "print(type(f))"
   ]
  },
  {
   "cell_type": "code",
   "execution_count": 11,
   "metadata": {},
   "outputs": [
    {
     "name": "stdout",
     "output_type": "stream",
     "text": [
      "enter your details: 12$23$34\n",
      "12\n",
      "23\n",
      "34\n"
     ]
    }
   ],
   "source": [
    "str1,str2,str3=input(\"enter your details: \").split(sep=\"$\")  #5\n",
    "print(str1)\n",
    "print(str2)\n",
    "print(str3)"
   ]
  },
  {
   "cell_type": "markdown",
   "metadata": {},
   "source": [
    "# Operators"
   ]
  },
  {
   "cell_type": "markdown",
   "metadata": {},
   "source": [
    "### (arithmatic, logical, assignment, identity, membership,bitwise,comparision)"
   ]
  },
  {
   "cell_type": "markdown",
   "metadata": {},
   "source": [
    "# Arithematic"
   ]
  },
  {
   "cell_type": "code",
   "execution_count": 12,
   "metadata": {},
   "outputs": [
    {
     "name": "stdout",
     "output_type": "stream",
     "text": [
      "35\n",
      "-5\n",
      "300\n",
      "0.75\n",
      "5\n",
      "332525673007965087890625\n",
      "1\n"
     ]
    }
   ],
   "source": [
    "#(+,-,*,/,%-Remainder,**,//=determinent)\n",
    "a=15\n",
    "b=20\n",
    "print(a+b)\n",
    "print(a-b)\n",
    "print(a*b)\n",
    "print(a/b)\n",
    "print(b%a)\n",
    "print(a**b) #15^(20) #exponent\n",
    "print(b//a) #base division"
   ]
  },
  {
   "cell_type": "markdown",
   "metadata": {},
   "source": [
    "# Logical "
   ]
  },
  {
   "cell_type": "raw",
   "metadata": {},
   "source": [
    "#(and, or , not)\n",
    "cond1 cond2\n",
    "cond1 and cond2 #if both are true\n",
    "cond1 or cond2  #if either of the conditions are true\n",
    "not cond1       #if the condition is not true"
   ]
  },
  {
   "cell_type": "markdown",
   "metadata": {},
   "source": [
    "# Logical operators "
   ]
  },
  {
   "cell_type": "markdown",
   "metadata": {},
   "source": [
    "#### AND"
   ]
  },
  {
   "cell_type": "code",
   "execution_count": 76,
   "metadata": {},
   "outputs": [
    {
     "name": "stdout",
     "output_type": "stream",
     "text": [
      "False\n",
      "True\n",
      "False\n",
      "False\n"
     ]
    }
   ],
   "source": [
    "print(True and False)\n",
    "print(True and True)\n",
    "print(False and True)\n",
    "print(False and False)"
   ]
  },
  {
   "cell_type": "markdown",
   "metadata": {},
   "source": [
    "#### OR "
   ]
  },
  {
   "cell_type": "code",
   "execution_count": 77,
   "metadata": {},
   "outputs": [
    {
     "name": "stdout",
     "output_type": "stream",
     "text": [
      "True\n",
      "True\n",
      "True\n",
      "False\n"
     ]
    }
   ],
   "source": [
    "print(True or False)\n",
    "print(True or True)\n",
    "print(False or True)\n",
    "print(False or False)"
   ]
  },
  {
   "cell_type": "markdown",
   "metadata": {},
   "source": [
    "#### NOT"
   ]
  },
  {
   "cell_type": "code",
   "execution_count": 79,
   "metadata": {},
   "outputs": [
    {
     "name": "stdout",
     "output_type": "stream",
     "text": [
      "False\n",
      "True\n"
     ]
    }
   ],
   "source": [
    "print(not True)\n",
    "print(not False)"
   ]
  },
  {
   "cell_type": "markdown",
   "metadata": {},
   "source": [
    "# interesting question: find the answer by researching about errors"
   ]
  },
  {
   "cell_type": "code",
   "execution_count": 8,
   "metadata": {},
   "outputs": [
    {
     "ename": "SyntaxError",
     "evalue": "invalid syntax (<ipython-input-8-05b4c189a7aa>, line 3)",
     "output_type": "error",
     "traceback": [
      "\u001b[1;36m  File \u001b[1;32m\"<ipython-input-8-05b4c189a7aa>\"\u001b[1;36m, line \u001b[1;32m3\u001b[0m\n\u001b[1;33m    print(hello again and again\")\u001b[0m\n\u001b[1;37m                    ^\u001b[0m\n\u001b[1;31mSyntaxError\u001b[0m\u001b[1;31m:\u001b[0m invalid syntax\n"
     ]
    }
   ],
   "source": [
    "print(\"hello\")\n",
    "print(\"hello again\")\n",
    "print(hello again and again\")"
   ]
  },
  {
   "cell_type": "code",
   "execution_count": 13,
   "metadata": {},
   "outputs": [
    {
     "name": "stdout",
     "output_type": "stream",
     "text": [
      "hello\n",
      "hello again\n"
     ]
    },
    {
     "ename": "NameError",
     "evalue": "name 'prit' is not defined",
     "output_type": "error",
     "traceback": [
      "\u001b[1;31m---------------------------------------------------------------------------\u001b[0m",
      "\u001b[1;31mNameError\u001b[0m                                 Traceback (most recent call last)",
      "\u001b[1;32m<ipython-input-13-0fc1660ea4a7>\u001b[0m in \u001b[0;36m<module>\u001b[1;34m\u001b[0m\n\u001b[0;32m      1\u001b[0m \u001b[0mprint\u001b[0m\u001b[1;33m(\u001b[0m\u001b[1;34m\"hello\"\u001b[0m\u001b[1;33m)\u001b[0m\u001b[1;33m\u001b[0m\u001b[1;33m\u001b[0m\u001b[0m\n\u001b[0;32m      2\u001b[0m \u001b[0mprint\u001b[0m\u001b[1;33m(\u001b[0m\u001b[1;34m\"hello again\"\u001b[0m\u001b[1;33m)\u001b[0m\u001b[1;33m\u001b[0m\u001b[1;33m\u001b[0m\u001b[0m\n\u001b[1;32m----> 3\u001b[1;33m \u001b[0mprit\u001b[0m\u001b[1;33m(\u001b[0m\u001b[1;34m\"hello again and again\"\u001b[0m\u001b[1;33m)\u001b[0m\u001b[1;33m\u001b[0m\u001b[1;33m\u001b[0m\u001b[0m\n\u001b[0m",
      "\u001b[1;31mNameError\u001b[0m: name 'prit' is not defined"
     ]
    }
   ],
   "source": [
    "print(\"hello\")\n",
    "print(\"hello again\")\n",
    "prit(\"hello again and again\")"
   ]
  },
  {
   "cell_type": "markdown",
   "metadata": {},
   "source": [
    "# ASSIGNMENT OPERATORS"
   ]
  },
  {
   "cell_type": "code",
   "execution_count": 15,
   "metadata": {},
   "outputs": [
    {
     "name": "stdout",
     "output_type": "stream",
     "text": [
      "3\n",
      "1\n",
      "2\n",
      "1.0\n",
      "1.0\n"
     ]
    }
   ],
   "source": [
    "#(=,+=,-=,*=,/=,%=)\n",
    "a=9\n",
    "b=1\n",
    "b+=2 #b=b+2   #3\n",
    "print(b)\n",
    "b-=2 #b=b-2   #1\n",
    "print(b)\n",
    "b*=2 #b=b*2  #2\n",
    "print(b)\n",
    "b/=2 #b=b/2\n",
    "print(b)\n",
    "b%=2 #b=b%2\n",
    "print(b)"
   ]
  },
  {
   "cell_type": "markdown",
   "metadata": {},
   "source": [
    "# IDENTITY OPERATORS"
   ]
  },
  {
   "cell_type": "code",
   "execution_count": 24,
   "metadata": {},
   "outputs": [
    {
     "name": "stdout",
     "output_type": "stream",
     "text": [
      "<class 'int'>\n",
      "True\n",
      "False\n"
     ]
    }
   ],
   "source": [
    "#(is, is not)  #True and False\n",
    "a=2\n",
    "print(type(a))\n",
    "print(type(a) is int)\n",
    "print(type(a) is not int)"
   ]
  },
  {
   "cell_type": "markdown",
   "metadata": {},
   "source": [
    "# MEMBERSHIP OPERATORS"
   ]
  },
  {
   "cell_type": "code",
   "execution_count": 27,
   "metadata": {},
   "outputs": [
    {
     "name": "stdout",
     "output_type": "stream",
     "text": [
      "True\n",
      "False\n"
     ]
    }
   ],
   "source": [
    "#(in , not in)\n",
    "a=6\n",
    "b=[1,2,3,4,5,6,7,8,9]\n",
    "print(a in b)\n",
    "print(a not in b)"
   ]
  },
  {
   "cell_type": "markdown",
   "metadata": {},
   "source": [
    "# COMPARISION OPERATORS"
   ]
  },
  {
   "cell_type": "code",
   "execution_count": 28,
   "metadata": {},
   "outputs": [],
   "source": [
    "#(==,<=,>=,!=,<,>)"
   ]
  },
  {
   "cell_type": "markdown",
   "metadata": {},
   "source": [
    "# BITWISE OPERATORS "
   ]
  },
  {
   "cell_type": "code",
   "execution_count": 41,
   "metadata": {},
   "outputs": [
    {
     "name": "stdout",
     "output_type": "stream",
     "text": [
      "6\n",
      "7\n",
      "1\n",
      "-7\n"
     ]
    }
   ],
   "source": [
    "#(& (and),|(or),^(XOR),~(NOT))\n",
    "a=6 #(110)   \n",
    "b=7 #(111)\n",
    "print(a&b)   \n",
    "print(a|b)\n",
    "print(a^b)\n",
    "print(~a)"
   ]
  },
  {
   "cell_type": "markdown",
   "metadata": {},
   "source": [
    "# ROUNDING UP DECIMALS"
   ]
  },
  {
   "cell_type": "code",
   "execution_count": 40,
   "metadata": {},
   "outputs": [
    {
     "name": "stdout",
     "output_type": "stream",
     "text": [
      "4.000000\n"
     ]
    }
   ],
   "source": [
    "a=20\n",
    "b=5\n",
    "print(\"%2f\"%(a/b))"
   ]
  },
  {
   "cell_type": "markdown",
   "metadata": {},
   "source": [
    "# CONDITIONAL STATEMENTS"
   ]
  },
  {
   "cell_type": "markdown",
   "metadata": {},
   "source": [
    "## if , if elif, nested if else"
   ]
  },
  {
   "cell_type": "code",
   "execution_count": 19,
   "metadata": {},
   "outputs": [
    {
     "name": "stdout",
     "output_type": "stream",
     "text": [
      "enter value for a: 10\n",
      "12\n"
     ]
    }
   ],
   "source": [
    "a=int(input(\"enter value for a: \"))\n",
    "if a%2==0:\n",
    "    if a>8:\n",
    "        a+=2\n",
    "        print(a)\n",
    "elif a%2!=0:\n",
    "    if a<8:\n",
    "        a-=2\n",
    "        print(a)"
   ]
  },
  {
   "cell_type": "markdown",
   "metadata": {},
   "source": [
    "## SHORT HAND IF-ELSE"
   ]
  },
  {
   "cell_type": "code",
   "execution_count": 20,
   "metadata": {},
   "outputs": [
    {
     "name": "stdout",
     "output_type": "stream",
     "text": [
      "a<b\n"
     ]
    }
   ],
   "source": [
    "#on_true if condition else On-FALSE\n",
    "a=9\n",
    "b=8\n",
    "print(\"a>b\") if False else print(\"a<b\")"
   ]
  },
  {
   "cell_type": "code",
   "execution_count": 46,
   "metadata": {},
   "outputs": [
    {
     "name": "stdout",
     "output_type": "stream",
     "text": [
      "nice\n"
     ]
    }
   ],
   "source": [
    "if(True if False else True if True else False):\n",
    "    print(\"nice\")"
   ]
  },
  {
   "cell_type": "markdown",
   "metadata": {},
   "source": [
    "# LOOPS"
   ]
  },
  {
   "cell_type": "raw",
   "metadata": {},
   "source": [
    "2 TYPES = (while, for)\n",
    "\n",
    "WHILE SYNTAX:\n",
    "initiation\n",
    "while (condition):\n",
    "    statements to be exectuted when the condition is true\n",
    "    re-assignment   \n",
    "else:\n",
    "    statement to be exectuted on natural termination of loop\n",
    "    \n",
    "FOR SYNTAX:\n",
    "iterator declaration\n",
    "for i in iterator:\n",
    "    statements to be executed"
   ]
  },
  {
   "cell_type": "markdown",
   "metadata": {},
   "source": [
    "## while loop"
   ]
  },
  {
   "cell_type": "code",
   "execution_count": 52,
   "metadata": {},
   "outputs": [
    {
     "name": "stdout",
     "output_type": "stream",
     "text": [
      "1\n",
      "2\n",
      "3\n",
      "4\n",
      "5\n",
      "6\n",
      "7\n",
      "8\n",
      "9\n",
      "10\n"
     ]
    }
   ],
   "source": [
    "a=1\n",
    "while (a<=10):\n",
    "    print(a)\n",
    "    a+=1\n",
    "else:\n",
    "    print(\"a is greater than 10\")"
   ]
  },
  {
   "cell_type": "markdown",
   "metadata": {},
   "source": [
    "# Range() function and its variations"
   ]
  },
  {
   "cell_type": "raw",
   "metadata": {},
   "source": [
    "#range(lowerlimit, upperlimit, jump)   #lowerlimit-inclusive   #upperlimit-exclusive\n",
    "#range(lowerlimit, upperlimit)   #def jump=1\n",
    "#range(upperlimit)  #lowerlimit=0"
   ]
  },
  {
   "cell_type": "code",
   "execution_count": 21,
   "metadata": {},
   "outputs": [
    {
     "name": "stdout",
     "output_type": "stream",
     "text": [
      "10\n",
      "9\n",
      "8\n",
      "7\n",
      "6\n",
      "5\n",
      "4\n",
      "3\n"
     ]
    }
   ],
   "source": [
    "for i in range(10,2,-1):\n",
    "    print(i)"
   ]
  },
  {
   "cell_type": "markdown",
   "metadata": {},
   "source": [
    "### indexing using enumerate"
   ]
  },
  {
   "cell_type": "code",
   "execution_count": 71,
   "metadata": {},
   "outputs": [
    {
     "name": "stdout",
     "output_type": "stream",
     "text": [
      "0 a\n",
      "1 b\n",
      "2 c\n",
      "3 d\n",
      "4 e\n",
      "5 f\n",
      "6 g\n",
      "7 h\n",
      "8 i\n",
      "9 j\n"
     ]
    }
   ],
   "source": [
    "a=\"abcdefghij\"\n",
    "count=0\n",
    "for i,j in enumerate(a):\n",
    "    print(i,j)"
   ]
  },
  {
   "cell_type": "markdown",
   "metadata": {},
   "source": [
    "# BREAK KEYWORD"
   ]
  },
  {
   "cell_type": "code",
   "execution_count": 2,
   "metadata": {},
   "outputs": [
    {
     "name": "stdout",
     "output_type": "stream",
     "text": [
      "1\n",
      "2\n",
      "3\n"
     ]
    }
   ],
   "source": [
    "i=1\n",
    "while i<=10:\n",
    "    if i==4:\n",
    "        i+=1\n",
    "        break\n",
    "    print(i)\n",
    "    i+=1"
   ]
  },
  {
   "cell_type": "markdown",
   "metadata": {},
   "source": [
    "# PASS KEYWORD "
   ]
  },
  {
   "cell_type": "code",
   "execution_count": 4,
   "metadata": {},
   "outputs": [
    {
     "name": "stdout",
     "output_type": "stream",
     "text": [
      "11\n"
     ]
    }
   ],
   "source": [
    "if i==0:\n",
    "    print(\"i is zero\")\n",
    "elif i==5:\n",
    "    pass\n",
    "else:\n",
    "    print(i)"
   ]
  },
  {
   "cell_type": "markdown",
   "metadata": {},
   "source": [
    "# CONTINUE KEYWORD"
   ]
  },
  {
   "cell_type": "code",
   "execution_count": 4,
   "metadata": {},
   "outputs": [
    {
     "name": "stdout",
     "output_type": "stream",
     "text": [
      "1\n",
      "2\n",
      "3\n",
      "5\n",
      "6\n",
      "7\n",
      "8\n",
      "9\n",
      "10\n"
     ]
    }
   ],
   "source": [
    "i=1\n",
    "while i<=10:\n",
    "    if i==4:\n",
    "        i+=1\n",
    "        continue\n",
    "    print(i)\n",
    "    i+=1"
   ]
  },
  {
   "cell_type": "markdown",
   "metadata": {},
   "source": [
    "## STRING OPERATORS"
   ]
  },
  {
   "cell_type": "markdown",
   "metadata": {},
   "source": [
    "##  +   *   [ : : ]"
   ]
  },
  {
   "cell_type": "code",
   "execution_count": 11,
   "metadata": {},
   "outputs": [
    {
     "name": "stdout",
     "output_type": "stream",
     "text": [
      "hi, welcome to the club \n"
     ]
    }
   ],
   "source": [
    "a=\"hi, \"\n",
    "b= \"welcome to the club \"\n",
    "c=a+b\n",
    "print(c)"
   ]
  },
  {
   "cell_type": "code",
   "execution_count": 14,
   "metadata": {},
   "outputs": [
    {
     "name": "stdout",
     "output_type": "stream",
     "text": [
      "sjkf klsf;l sfklj fjskljklfjs;klc dfscsdsjkf klsf;l sfklj fjskljklfjs;klc dfscsdsjkf klsf;l sfklj fjskljklfjs;klc dfscsdsjkf klsf;l sfklj fjskljklfjs;klc dfscsdsjkf klsf;l sfklj fjskljklfjs;klc dfscsdsjkf klsf;l sfklj fjskljklfjs;klc dfscsdsjkf klsf;l sfklj fjskljklfjs;klc dfscsdsjkf klsf;l sfklj fjskljklfjs;klc dfscsdsjkf klsf;l sfklj fjskljklfjs;klc dfscsdsjkf klsf;l sfklj fjskljklfjs;klc dfscsd\n"
     ]
    }
   ],
   "source": [
    "d=\"sjkf klsf;l sfklj fjskljklfjs;klc dfscsd\"\n",
    "print(d*10)"
   ]
  },
  {
   "cell_type": "code",
   "execution_count": 40,
   "metadata": {},
   "outputs": [
    {
     "name": "stdout",
     "output_type": "stream",
     "text": [
      "asiar\n",
      "parksinitiators\n",
      "i\n",
      "rk\n",
      "\n",
      "srotaitiniskraps\n"
     ]
    }
   ],
   "source": [
    "str1=\"sparksinitiators\"\n",
    "print(str1[2:15:3])\n",
    "print(str1[1:])\n",
    "print(str1[10])\n",
    "print(str1[-13:5])\n",
    "print(str1[-15:1])   #upperlimit-lowerlimit\n",
    "print(str1[::-1])"
   ]
  },
  {
   "cell_type": "markdown",
   "metadata": {},
   "source": [
    "## Text Allignment"
   ]
  },
  {
   "cell_type": "code",
   "execution_count": 41,
   "metadata": {},
   "outputs": [
    {
     "name": "stdout",
     "output_type": "stream",
     "text": [
      "10\n"
     ]
    }
   ],
   "source": [
    "str2=\"abcdefghij\"\n",
    "print(len(str2))"
   ]
  },
  {
   "cell_type": "markdown",
   "metadata": {},
   "source": [
    "# | -------str2 |      #rjust\n",
    "# | ---str2---- |     #center\n",
    "# | str2------- |     #ljust"
   ]
  },
  {
   "cell_type": "code",
   "execution_count": 62,
   "metadata": {},
   "outputs": [
    {
     "name": "stdout",
     "output_type": "stream",
     "text": [
      "$$$$$$$$$$$$$$$$$$$$$$$$$$$$$$$$$$$$$$$$$$$$$$$$$$$$$$$$$$$$$$$$$$$$$$$$$$$$$$$$$$$$$$$$$$$$$$$$$$$$$$$$$$$$$$$$$$$$$abcdefghij\n",
      "                                                           abcdefghij                                                          \n",
      "abcdefghij#####################################################################################################################\n",
      "127\n"
     ]
    }
   ],
   "source": [
    "x=str2.rjust(127,\"#\")\n",
    "print(str2.rjust(127,\"$\"))\n",
    "print(str2.center(127,\" \"))\n",
    "print(str2.ljust(127,\"#\"))\n",
    "print(len(x))"
   ]
  },
  {
   "cell_type": "raw",
   "metadata": {},
   "source": [
    "---------.|.---------\n",
    "------.|..|..|.------\n",
    "---.|..|..|..|..|.---\n",
    "-------WELCOME-------\n",
    "---.|..|..|..|..|.---\n",
    "------.|..|..|.------\n",
    "---------.|.---------"
   ]
  },
  {
   "cell_type": "markdown",
   "metadata": {},
   "source": [
    "## METHOD 1"
   ]
  },
  {
   "cell_type": "code",
   "execution_count": 68,
   "metadata": {},
   "outputs": [
    {
     "name": "stdout",
     "output_type": "stream",
     "text": [
      "---------.|.---------\n",
      "------.|..|..|.------\n",
      "---.|..|..|..|..|.---\n",
      "-------WELCOME-------\n",
      "---.|..|..|..|..|.---\n",
      "------.|..|..|.------\n",
      "---------.|.---------\n"
     ]
    }
   ],
   "source": [
    "ch=\".|.\"\n",
    "n=7\n",
    "for i in range(n//2) :   #7//2===3     #0,1,2\n",
    "    print((ch*(2*i+1)).center(n*3, \"-\"))\n",
    "print(\"WELCOME\".center(n*3, \"-\"))\n",
    "for i in range(n//2-1,-1,-1) :         #2,1,0\n",
    "    print((ch*(2*i+1)).center(n*3, \"-\"))"
   ]
  },
  {
   "cell_type": "markdown",
   "metadata": {},
   "source": [
    "## METHOD 2"
   ]
  },
  {
   "cell_type": "code",
   "execution_count": 79,
   "metadata": {},
   "outputs": [
    {
     "name": "stdout",
     "output_type": "stream",
     "text": [
      "15\n",
      "---------------------.|.---------------------\n",
      "------------------.|..|..|.------------------\n",
      "---------------.|..|..|..|..|.---------------\n",
      "------------.|..|..|..|..|..|..|.------------\n",
      "---------.|..|..|..|..|..|..|..|..|.---------\n",
      "------.|..|..|..|..|..|..|..|..|..|..|.------\n",
      "---.|..|..|..|..|..|..|..|..|..|..|..|..|.---\n",
      "-------------------WELCOME-------------------\n",
      "---.|..|..|..|..|..|..|..|..|..|..|..|..|.---\n",
      "------.|..|..|..|..|..|..|..|..|..|..|.------\n",
      "---------.|..|..|..|..|..|..|..|..|.---------\n",
      "------------.|..|..|..|..|..|..|.------------\n",
      "---------------.|..|..|..|..|.---------------\n",
      "------------------.|..|..|.------------------\n",
      "---------------------.|.---------------------\n"
     ]
    }
   ],
   "source": [
    "r=int(input())\n",
    "c=r*3\n",
    "ch=\".|.\"\n",
    "for i in range(r):  #0,1,2,3,4,5,6   #n//2=3   \n",
    "    if i<r//2:     #7//2=3    0,1,2\n",
    "        print((ch*i).rjust((c-len(ch))//2,\"-\")+ch+(ch*i).ljust((c-len(ch))//2,\"-\"))\n",
    "    elif i==r//2:\n",
    "        print(\"WELCOME\".center(r*3,\"-\"))\n",
    "    elif i>r//2:  #i=4,5,6      #r=7   #r-1=6\n",
    "        print((ch*(r-1-i)).rjust((c-len(ch))//2,\"-\")+ch+(ch*(r-1-i)).ljust((c-len(ch))//2,\"-\"))"
   ]
  }
 ],
 "metadata": {
  "kernelspec": {
   "display_name": "Python 3",
   "language": "python",
   "name": "python3"
  },
  "language_info": {
   "codemirror_mode": {
    "name": "ipython",
    "version": 3
   },
   "file_extension": ".py",
   "mimetype": "text/x-python",
   "name": "python",
   "nbconvert_exporter": "python",
   "pygments_lexer": "ipython3",
   "version": "3.7.6"
  }
 },
 "nbformat": 4,
 "nbformat_minor": 2
}
