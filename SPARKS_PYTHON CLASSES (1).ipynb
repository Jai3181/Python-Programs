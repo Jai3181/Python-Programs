{
 "cells": [
  {
   "cell_type": "markdown",
   "metadata": {},
   "source": [
    "## NUMBER DATATYPE"
   ]
  },
  {
   "cell_type": "code",
   "execution_count": 1,
   "metadata": {},
   "outputs": [
    {
     "name": "stdout",
     "output_type": "stream",
     "text": [
      "<class 'int'>\n",
      "<class 'float'>\n",
      "<class 'complex'>\n"
     ]
    }
   ],
   "source": [
    "#3 types of Numbers\n",
    "print(type(3))\n",
    "print(type(3.5))\n",
    "print(type(3+4j))"
   ]
  },
  {
   "cell_type": "markdown",
   "metadata": {},
   "source": [
    "## INDENTATION"
   ]
  },
  {
   "cell_type": "code",
   "execution_count": 11,
   "metadata": {},
   "outputs": [
    {
     "name": "stdout",
     "output_type": "stream",
     "text": [
      "hjdhs\n",
      "hello\n",
      "<class 'function'>\n"
     ]
    }
   ],
   "source": [
    "#Indentation:either 4 spaces or single tab space\n",
    "def fun():\n",
    "    print(\"hello\")\n",
    "print(\"hjdhs\")\n",
    "fun()\n",
    "print(type(fun))"
   ]
  },
  {
   "cell_type": "markdown",
   "metadata": {},
   "source": [
    "## TYPE() FUNCTION"
   ]
  },
  {
   "cell_type": "code",
   "execution_count": 12,
   "metadata": {},
   "outputs": [
    {
     "name": "stdout",
     "output_type": "stream",
     "text": [
      "<class 'int'>\n"
     ]
    }
   ],
   "source": [
    "fun=5\n",
    "print(type(fun))"
   ]
  },
  {
   "cell_type": "markdown",
   "metadata": {},
   "source": [
    "## TYPE CASTING"
   ]
  },
  {
   "cell_type": "code",
   "execution_count": null,
   "metadata": {},
   "outputs": [],
   "source": [
    "#type casting a single input\n",
    "var=float(input())\n",
    "print(type(var))"
   ]
  },
  {
   "cell_type": "code",
   "execution_count": null,
   "metadata": {},
   "outputs": [],
   "source": [
    "a=float(input()) \n",
    "print(a)\n",
    "b=float(input())\n",
    "print(b)\n",
    "print(a+b)"
   ]
  },
  {
   "cell_type": "markdown",
   "metadata": {},
   "source": [
    "## COMMENTS IN PYTHON"
   ]
  },
  {
   "cell_type": "code",
   "execution_count": null,
   "metadata": {},
   "outputs": [],
   "source": [
    "#sinGle line commenting in python using hash\n",
    "#print(\"hello world\")"
   ]
  },
  {
   "cell_type": "code",
   "execution_count": null,
   "metadata": {},
   "outputs": [],
   "source": [
    "#multiline commenting using triple single quotes\n",
    "'''print(\"hello world\")'''"
   ]
  },
  {
   "cell_type": "markdown",
   "metadata": {},
   "source": [
    "## PRINTING METHODS"
   ]
  },
  {
   "cell_type": "code",
   "execution_count": 13,
   "metadata": {},
   "outputs": [
    {
     "name": "stdout",
     "output_type": "stream",
     "text": [
      "abc\n"
     ]
    }
   ],
   "source": [
    "#printing methods- printing variables\n",
    "str1=\"abc\"\n",
    "print(str1)"
   ]
  },
  {
   "cell_type": "code",
   "execution_count": null,
   "metadata": {},
   "outputs": [],
   "source": [
    "#printing- printing direct string \n",
    "print(\"hello world\")"
   ]
  },
  {
   "cell_type": "markdown",
   "metadata": {},
   "source": [
    "## STRING FORMATTING "
   ]
  },
  {
   "cell_type": "code",
   "execution_count": null,
   "metadata": {},
   "outputs": [],
   "source": [
    "#i want 10 pieces of apples for 100.0 ruppees\n",
    "quantity=10;\n",
    "item=\"appple\"\n",
    "cost=100.0"
   ]
  },
  {
   "cell_type": "code",
   "execution_count": null,
   "metadata": {},
   "outputs": [],
   "source": [
    "txt1=\"i want {} pieces of {} for {} ruppees\"\n",
    "print(txt1.format(quantity,item,cost))"
   ]
  },
  {
   "cell_type": "code",
   "execution_count": 14,
   "metadata": {},
   "outputs": [
    {
     "ename": "NameError",
     "evalue": "name 'cost' is not defined",
     "output_type": "error",
     "traceback": [
      "\u001b[1;31m---------------------------------------------------------------------------\u001b[0m",
      "\u001b[1;31mNameError\u001b[0m                                 Traceback (most recent call last)",
      "\u001b[1;32m<ipython-input-14-1a8ea13c841d>\u001b[0m in \u001b[0;36m<module>\u001b[1;34m\u001b[0m\n\u001b[0;32m      1\u001b[0m \u001b[0mtxt2\u001b[0m\u001b[1;33m=\u001b[0m\u001b[1;34m\"i want {2} pieces of {1} for {0} ruppees\"\u001b[0m\u001b[1;33m\u001b[0m\u001b[1;33m\u001b[0m\u001b[0m\n\u001b[1;32m----> 2\u001b[1;33m \u001b[0mprint\u001b[0m\u001b[1;33m(\u001b[0m\u001b[0mtxt2\u001b[0m\u001b[1;33m.\u001b[0m\u001b[0mformat\u001b[0m\u001b[1;33m(\u001b[0m\u001b[0mcost\u001b[0m\u001b[1;33m,\u001b[0m\u001b[0mitem\u001b[0m\u001b[1;33m,\u001b[0m\u001b[0mquantity\u001b[0m\u001b[1;33m)\u001b[0m\u001b[1;33m)\u001b[0m\u001b[1;33m\u001b[0m\u001b[1;33m\u001b[0m\u001b[0m\n\u001b[0m",
      "\u001b[1;31mNameError\u001b[0m: name 'cost' is not defined"
     ]
    }
   ],
   "source": [
    "txt2=\"i want {2} pieces of {1} for {0} ruppees\"\n",
    "print(txt2.format(cost,item,quantity))"
   ]
  },
  {
   "cell_type": "code",
   "execution_count": null,
   "metadata": {},
   "outputs": [],
   "source": [
    "#FOLLOWS THE SAME ORDER IN WHICH PARAMETERS ARE PASSED\n",
    "txt2=\"i want {2} pieces of {1} for {0} ruppees\"\n",
    "print(txt2.format(quantity,cost,item))"
   ]
  },
  {
   "cell_type": "code",
   "execution_count": null,
   "metadata": {},
   "outputs": [],
   "source": [
    "txt3=\"i want {quantity} pieces of {item} for {cost} ruppees\"\n",
    "print(txt3.format(item=\"apples\",quantity=10,cost=100.0))"
   ]
  },
  {
   "cell_type": "markdown",
   "metadata": {},
   "source": [
    "## INPUT() FUNCTION"
   ]
  },
  {
   "cell_type": "code",
   "execution_count": null,
   "metadata": {},
   "outputs": [],
   "source": [
    "str1=input(\"enter your first name:\")\n",
    "str2=input(\"enter your last name:\")\n",
    "print(str1+str2)"
   ]
  },
  {
   "cell_type": "code",
   "execution_count": null,
   "metadata": {},
   "outputs": [],
   "source": [
    "#i want quantity peices of item for cost value\n",
    "txt3=\"i want {quantity} peices of {item} for {cost} ruppees\"\n",
    "print(txt3.format(item=array_name[i],quantity=10,cost=100.0))"
   ]
  },
  {
   "cell_type": "markdown",
   "metadata": {},
   "source": [
    "## PRINT(STR,SEP,END) PARAMETERS\n",
    "DEFAULT VALUE OF SEP=\" \" (SPACE)\n",
    "\n",
    "DEFAULT VALUE OF END=\"\\n\" (NEWLINE)"
   ]
  },
  {
   "cell_type": "code",
   "execution_count": null,
   "metadata": {},
   "outputs": [],
   "source": [
    "name=\"jai\"\n",
    "print(\"hello\",name,sep=\"$\",end=\"*\")\n",
    "print(\"hello again\")"
   ]
  },
  {
   "cell_type": "code",
   "execution_count": null,
   "metadata": {},
   "outputs": [],
   "source": [
    "a=\"hello\"\n",
    "b=\"world\"\n",
    "print(\"hello world\",a,b,sep=\"$\",end=\" \") #\\n means newline\n",
    "print(\"my name is jai\")"
   ]
  },
  {
   "cell_type": "markdown",
   "metadata": {},
   "source": [
    "## input.split() method and map(function,iterable) fuction "
   ]
  },
  {
   "cell_type": "code",
   "execution_count": null,
   "metadata": {},
   "outputs": [],
   "source": [
    "a,b=input().split() #2 space seperated values will be placed in a and b respectively\n",
    "print(a)\n",
    "print(type(a)) #values are of str type as input takes values in str format unless typecasting is used\n",
    "print(b)\n",
    "print(type(b)) #values are of str type as input takes values in str format unless typecasting is used"
   ]
  },
  {
   "cell_type": "code",
   "execution_count": null,
   "metadata": {},
   "outputs": [],
   "source": [
    "a,b,c,d=input().split(sep=\" \")\n",
    "print(a)\n",
    "print(b)\n",
    "print(c)\n",
    "print(d)\n",
    "print(a+b+c+d)"
   ]
  },
  {
   "cell_type": "code",
   "execution_count": null,
   "metadata": {},
   "outputs": [],
   "source": [
    "a,b,c,d=map(int,input().split(sep=\" \")) #map(function,inputs)\n",
    "print(a)\n",
    "print(b)\n",
    "print(c)\n",
    "print(d)\n",
    "print(a+b+c+d)"
   ]
  },
  {
   "cell_type": "code",
   "execution_count": null,
   "metadata": {},
   "outputs": [],
   "source": [
    "a,b=map(int,input().split())\n",
    "c,d=input().split()\n",
    "print(a+b)\n",
    "print(c+d)\n",
    "print(type(a))\n",
    "print(type(b))\n",
    "print(type(c))\n",
    "print(type(d))"
   ]
  },
  {
   "cell_type": "code",
   "execution_count": null,
   "metadata": {},
   "outputs": [],
   "source": [
    "#INPUT INTEGER VALUE BUT IT'LL WORK AS STR\n",
    "a=input()\n",
    "b=input()\n",
    "print(a)\n",
    "print(b)\n",
    "print(type(a))\n",
    "print(type(b))\n",
    "print(a+b)    #hi+hi=hihi IE: 2+3=23\n",
    "#a=int(a)\n",
    "#b=int(b)\n",
    "#print(a+b)   #2+3=5"
   ]
  },
  {
   "cell_type": "code",
   "execution_count": null,
   "metadata": {},
   "outputs": [],
   "source": [
    "\"hello\"+\"hi\""
   ]
  },
  {
   "cell_type": "markdown",
   "metadata": {},
   "source": [
    "## OPERATORS IN PYTHON"
   ]
  },
  {
   "cell_type": "code",
   "execution_count": null,
   "metadata": {},
   "outputs": [],
   "source": [
    "#arithmatic operators\n",
    "a=2\n",
    "b=3\n",
    "print(a+b)\n",
    "print(a-b)\n",
    "print(a*b)\n",
    "print('%.2f'%(a/b))\n",
    "print(a%b) \n",
    "print(a**b) #2^3\n",
    "print(b//a) #3/2=1.5"
   ]
  },
  {
   "cell_type": "code",
   "execution_count": null,
   "metadata": {},
   "outputs": [],
   "source": [
    "#logical operators\n",
    "#and (true if both conditions are true)\n",
    "print(10>3 and 1>10)\n",
    "#or (true if atleast one condition is true)\n",
    "print(10>3 or 1>10)\n",
    "#not\n",
    "print(10>3)\n",
    "print(not(10>3))"
   ]
  },
  {
   "cell_type": "code",
   "execution_count": null,
   "metadata": {},
   "outputs": [],
   "source": [
    "#assignment operator\n",
    "a=1\n",
    "a+=2\n",
    "print(a)#a=a+2\n",
    "a-=2 #a=a-2\n",
    "print(a)\n",
    "a*=2 #a=a*2\n",
    "print(a)\n",
    "a/=2 #a=a/2\n",
    "print(a)"
   ]
  },
  {
   "cell_type": "code",
   "execution_count": null,
   "metadata": {},
   "outputs": [],
   "source": [
    "a=123\n",
    "print(a)\n",
    "print(type(a))\n",
    "a=\"hello\"\n",
    "print(a)\n",
    "print(type(a))"
   ]
  },
  {
   "cell_type": "code",
   "execution_count": null,
   "metadata": {},
   "outputs": [],
   "source": [
    "#identity operators\n",
    "a=2\n",
    "type(a) is int\n",
    "b=\"string\"\n",
    "type(b) is not int"
   ]
  },
  {
   "cell_type": "code",
   "execution_count": null,
   "metadata": {},
   "outputs": [],
   "source": [
    "b=\"string\"\n",
    "type(b) is not int"
   ]
  },
  {
   "cell_type": "code",
   "execution_count": null,
   "metadata": {},
   "outputs": [],
   "source": [
    "#mebership operator\n",
    "list1=[11,12,13,14]\n",
    "a=11\n",
    "a in list1"
   ]
  },
  {
   "cell_type": "code",
   "execution_count": null,
   "metadata": {},
   "outputs": [],
   "source": [
    "list1=[11,12,13,14]\n",
    "b=21\n",
    "b not in list1"
   ]
  },
  {
   "cell_type": "code",
   "execution_count": null,
   "metadata": {},
   "outputs": [],
   "source": [
    "#comparision operators\n",
    "a=20\n",
    "b=30\n",
    "#a>b\n",
    "#a<b\n",
    "#a==b\n",
    "#a!=b\n",
    "#a>=b\n",
    "#a<=b"
   ]
  },
  {
   "cell_type": "code",
   "execution_count": null,
   "metadata": {},
   "outputs": [],
   "source": [
    "#bitwise operators\n",
    "a=10\n",
    "#1010\n",
    "b=7\n",
    "#111\n",
    "print(a&b)\n",
    "print(a|b)\n",
    "print(a^b)"
   ]
  },
  {
   "cell_type": "markdown",
   "metadata": {},
   "source": [
    "## CONDITIONAL STATEMENTS"
   ]
  },
  {
   "cell_type": "code",
   "execution_count": null,
   "metadata": {},
   "outputs": [],
   "source": [
    "num= int(input(\"enter a number\"))\n",
    "if num%2==0:\n",
    "    print(\"even\")\n",
    "else:\n",
    "    print(\"odd\")"
   ]
  },
  {
   "cell_type": "code",
   "execution_count": null,
   "metadata": {},
   "outputs": [],
   "source": [
    "x,y =8,8\n",
    "if(x < y):\n",
    "    st= \"x is less than y\"\n",
    "elif (x == y):\n",
    "    st= \"x is same as y\"\n",
    "else:\n",
    "    st=\"x is greater than y\"\n",
    "print(st)"
   ]
  },
  {
   "cell_type": "code",
   "execution_count": null,
   "metadata": {},
   "outputs": [],
   "source": [
    "if 1>3 or 4>3:\n",
    "    print(\"if block\")\n",
    "    print(\"if block\")\n",
    "elif 10>20:\n",
    "    print(\"when if is false\")\n",
    "elif 10<30:\n",
    "    print(\"when if and elif1 is false\")\n",
    "else:\n",
    "    print(\"all other conditions are false\")"
   ]
  },
  {
   "cell_type": "code",
   "execution_count": null,
   "metadata": {},
   "outputs": [],
   "source": [
    "if False:\n",
    "    print(\"if block\")\n",
    "    print(\"if block\")\n",
    "elif 10>20:\n",
    "    print(\"when if is false\")\n",
    "elif 10<30:\n",
    "    print(\"when if and elif1 is false\")\n",
    "else:\n",
    "    print(\"all other conditions are false\")"
   ]
  },
  {
   "cell_type": "code",
   "execution_count": null,
   "metadata": {},
   "outputs": [],
   "source": [
    "a=2\n",
    "if a==2:\n",
    "    print(\"yes\")\n",
    "    print(\"yes again\")\n",
    "else:\n",
    "    print(\"no\")"
   ]
  },
  {
   "cell_type": "code",
   "execution_count": null,
   "metadata": {},
   "outputs": [],
   "source": [
    "b=2\n",
    "print(\"yes\") if a==2 else print(\"no\")\n",
    "# on_true if condition else on_false"
   ]
  },
  {
   "cell_type": "code",
   "execution_count": null,
   "metadata": {},
   "outputs": [],
   "source": [
    "a=5\n",
    "if a%2==0:\n",
    "    if a>=2 and a<=4:\n",
    "        a=a+1\n",
    "    else:\n",
    "        a=21\n",
    "else:\n",
    "    a=a-1\n",
    "print(a)"
   ]
  },
  {
   "cell_type": "code",
   "execution_count": null,
   "metadata": {},
   "outputs": [],
   "source": [
    "#if (True if False else (True if True else False):\n",
    " #   print(\"wow\")\n"
   ]
  },
  {
   "cell_type": "code",
   "execution_count": null,
   "metadata": {},
   "outputs": [],
   "source": [
    "year = int(input())\n",
    "if (year == 2020):\n",
    "    print(\"BAD LUCK MATE, Better luck next year!!\")\n",
    "\n",
    "else:\n",
    "    if (year % 4) == 0:\n",
    "        if (year % 100) != 0:\n",
    "            print(\"leap\")\n",
    "        else:\n",
    "            print(\"not leap\")\n",
    "    else:\n",
    "        print(\"not leap\")"
   ]
  },
  {
   "cell_type": "code",
   "execution_count": null,
   "metadata": {},
   "outputs": [],
   "source": [
    "year=int(input())\n",
    "if year==2020:\n",
    "    print(\"BAD LUCK MATE, Better luck next year!!\")\n",
    "elif (year%4)==0:\n",
    "    if year%100==0:\n",
    "        if year%400==0:\n",
    "            print(\"leap\")\n",
    "        else:\n",
    "            print(\"not leap\")\n",
    "    else:\n",
    "        print(\"leap\")\n",
    "else:\n",
    "    print(\"not leap\")"
   ]
  },
  {
   "cell_type": "code",
   "execution_count": null,
   "metadata": {},
   "outputs": [],
   "source": [
    "a,b,c,d,e= map(int,input().split())\n",
    "avg=(a+b+c+d+e)/5\n",
    "if avg>=90:\n",
    "    print(\"A+\")\n",
    "elif avg>=80:\n",
    "    print(\"A\")\n",
    "elif avg>=70:\n",
    "    print(\"B+\")\n",
    "elif avg>=60:\n",
    "    print(\"B\")\n",
    "else:\n",
    "    print(\"C\")"
   ]
  },
  {
   "cell_type": "code",
   "execution_count": null,
   "metadata": {},
   "outputs": [],
   "source": [
    "a,b=map(int,input().split())\n",
    "if a%b==0:\n",
    "    print(b,\"is a factor of\",a)"
   ]
  },
  {
   "cell_type": "code",
   "execution_count": null,
   "metadata": {},
   "outputs": [],
   "source": [
    "a=int(input())\n",
    "if a==1:\n",
    "    print(\"sunday\")\n",
    "elif a==2:\n",
    "    print(\"Monday\")\n",
    "elif a==3:\n",
    "    print(\"Tuesday\")\n",
    "elif a==4:\n",
    "    print(\"Wednesday\")\n",
    "elif a==5:\n",
    "    print(\"Thursday\")\n",
    "elif a==6:\n",
    "    print(\"Friday\")\n",
    "elif a==7:\n",
    "    print(\"Saturday\")\n",
    "else:\n",
    "    print(\"invalid input\")"
   ]
  },
  {
   "cell_type": "markdown",
   "metadata": {},
   "source": [
    "## RANGE FUNCTION"
   ]
  },
  {
   "cell_type": "markdown",
   "metadata": {},
   "source": [
    "#range(lowerlimit,upperlimit,jump) range(1,7,2) ------ 1,3,5\n",
    "#range(upperlimit) ----- default lowerlimit =0 jump=1  range(7)---- 0,1,2,3,4,5,6\n",
    "#range(lower,upper)------jump=1     range(1,7)------1,2,3,4,5,6\n",
    "#range(upper,jump)"
   ]
  },
  {
   "cell_type": "markdown",
   "metadata": {},
   "source": [
    "n=5\n",
    "for i in range(0,n):   # 0,1,2,3,4\n",
    "    print(i)"
   ]
  },
  {
   "cell_type": "code",
   "execution_count": null,
   "metadata": {},
   "outputs": [],
   "source": [
    "for i in range(19,0,-1):\n",
    "    print(i)"
   ]
  },
  {
   "cell_type": "markdown",
   "metadata": {},
   "source": [
    "## LOOPING"
   ]
  },
  {
   "cell_type": "code",
   "execution_count": null,
   "metadata": {},
   "outputs": [],
   "source": [
    "#DATATYPES WHICH ARE ITERABLES\n",
    "#string=\"1234\"\n",
    "#list,tuples,dictionaries\n",
    "#BUT NOT INT \n",
    "for i in \"1234\":\n",
    "    print(i)\n",
    "    if i==\"3\":\n",
    "        break\n",
    "else:\n",
    "    print(\"string iterated completely\")"
   ]
  },
  {
   "cell_type": "code",
   "execution_count": null,
   "metadata": {},
   "outputs": [],
   "source": [
    "i=0         #initiation\n",
    "while i<6:     #condition\n",
    "    print(i)    #statements to execute when condition is true\n",
    "    i=i+1"
   ]
  },
  {
   "cell_type": "code",
   "execution_count": null,
   "metadata": {},
   "outputs": [],
   "source": [
    "i=0         #initiation\n",
    "while i<6:     #condition\n",
    "    i=i+1\n",
    "    print(i)    #statements to execute when condition is true\n",
    "else:\n",
    "    print(\"i is no longer less than 6\",\"i=\",i)"
   ]
  },
  {
   "cell_type": "markdown",
   "metadata": {},
   "source": [
    "## CONTROL FLOW STATEMENTS"
   ]
  },
  {
   "cell_type": "code",
   "execution_count": null,
   "metadata": {},
   "outputs": [],
   "source": [
    "#break continue pass\n",
    "i=0\n",
    "n=21\n",
    "while i<n:\n",
    "    if i==11:\n",
    "        #print(\"11111\")\n",
    "        break\n",
    "    print(i)\n",
    "    i=i+1\n",
    "else :\n",
    "    print(\"i is no longer smaller thanm 21\")\n",
    "print(\"loop broken\")"
   ]
  },
  {
   "cell_type": "code",
   "execution_count": null,
   "metadata": {},
   "outputs": [],
   "source": [
    "gen,age=input().split()\n",
    "age=int(age)\n",
    "if (((gen==\"male\" or gen==\"Male\") and age>=25) or ((gen==\"female\" or gen==\"Female\") and age>=20)):\n",
    "    print(\"eligible\")\n",
    "else:\n",
    "    print(\"not eligible\")"
   ]
  },
  {
   "cell_type": "code",
   "execution_count": 2,
   "metadata": {},
   "outputs": [
    {
     "name": "stdout",
     "output_type": "stream",
     "text": [
      "500\n",
      "0\n",
      "8\n",
      "20\n",
      "0 : 8 : 20\n"
     ]
    }
   ],
   "source": [
    "sec=int(input())\n",
    "min=sec//60    \n",
    "sec=sec%60\n",
    "hours=min//60\n",
    "min=min%60\n",
    "print(hours)\n",
    "print(min)\n",
    "print(sec)\n",
    "print(hours,\":\",min,\":\",sec)"
   ]
  },
  {
   "cell_type": "markdown",
   "metadata": {},
   "source": [
    "## BONUS TOPIC: TEXT ALIGNMENT"
   ]
  },
  {
   "cell_type": "code",
   "execution_count": 12,
   "metadata": {},
   "outputs": [
    {
     "name": "stdout",
     "output_type": "stream",
     "text": [
      "5\n",
      "hello-------------------------\n",
      "30\n"
     ]
    }
   ],
   "source": [
    "str1=\"hello\"\n",
    "print(len(str1))\n",
    "b=str1.ljust(30,\"-\")\n",
    "print(b)\n",
    "print(len(b))"
   ]
  },
  {
   "cell_type": "code",
   "execution_count": 21,
   "metadata": {},
   "outputs": [
    {
     "name": "stdout",
     "output_type": "stream",
     "text": [
      "5\n",
      "hi$-------------------------hello\n",
      "30\n"
     ]
    }
   ],
   "source": [
    "str1=\"hello\"\n",
    "print(len(str1))\n",
    "b=str1.rjust(30,\"-\")\n",
    "print(\"hi\",b,sep=\"$\")\n",
    "print(len(b))"
   ]
  },
  {
   "cell_type": "code",
   "execution_count": 14,
   "metadata": {},
   "outputs": [
    {
     "name": "stdout",
     "output_type": "stream",
     "text": [
      "5\n",
      "------------hello-------------\n",
      "30\n"
     ]
    }
   ],
   "source": [
    "str1=\"hello\"\n",
    "print(len(str1))\n",
    "b=str1.center(30,\"-\")\n",
    "print(b)\n",
    "print(len(b))"
   ]
  },
  {
   "cell_type": "code",
   "execution_count": 24,
   "metadata": {},
   "outputs": [
    {
     "name": "stdout",
     "output_type": "stream",
     "text": [
      "7 21\n",
      "---------.|.---------\n",
      "------.|..|..|.------\n",
      "---.|..|..|..|..|.---\n",
      "-------WELCOME-------\n",
      "---.|..|..|..|..|.---\n",
      "------.|..|..|.------\n",
      "---------.|.---------\n"
     ]
    }
   ],
   "source": [
    "#constraint 1: n should be odd and m should be 3 times the value of n\n",
    "n,m=map(int,input().split())\n",
    "c='.|.'\n",
    "for i in range(n):\n",
    "    if i<n//2:\n",
    "        print((c*i).rjust((m-len(c))//2,'-')+c+(c*i).ljust((m-len(c))//2,'-'))\n",
    "    elif i==n//2:\n",
    "        print('WELCOME'.center(m,'-'))\n",
    "    elif i>n//2:\n",
    "        print((c*(n-1-i)).rjust((m-len(c))//2,'-')+c+(c*(n-1-i)).ljust((m-len(c))//2,'-'))"
   ]
  }
 ],
 "metadata": {
  "kernelspec": {
   "display_name": "Python 3",
   "language": "python",
   "name": "python3"
  },
  "language_info": {
   "codemirror_mode": {
    "name": "ipython",
    "version": 3
   },
   "file_extension": ".py",
   "mimetype": "text/x-python",
   "name": "python",
   "nbconvert_exporter": "python",
   "pygments_lexer": "ipython3",
   "version": "3.7.6"
  }
 },
 "nbformat": 4,
 "nbformat_minor": 2
}
